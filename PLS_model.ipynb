{
 "cells": [
  {
   "cell_type": "markdown",
   "metadata": {},
   "source": [
    "# PLS Models"
   ]
  },
  {
   "cell_type": "markdown",
   "metadata": {},
   "source": [
    "## Libraries"
   ]
  },
  {
   "cell_type": "code",
   "execution_count": 2,
   "metadata": {},
   "outputs": [],
   "source": [
    "import os\n",
    "import pandas as pd\n",
    "import numpy as np\n",
    "import matplotlib.pyplot as plt\n",
    "import seaborn as sns\n",
    "plt.style.use('seaborn-v0_8')"
   ]
  },
  {
   "cell_type": "code",
   "execution_count": null,
   "metadata": {},
   "outputs": [],
   "source": [
    "# Set display options to show all rows and columns\n",
    "pd.set_option('display.max_rows', None)\n",
    "pd.set_option('display.max_columns', None)"
   ]
  },
  {
   "cell_type": "markdown",
   "metadata": {},
   "source": [
    "## Paths"
   ]
  },
  {
   "cell_type": "code",
   "execution_count": 3,
   "metadata": {},
   "outputs": [],
   "source": [
    "DATA_ROOT = \"./gaitrec_data\"\n",
    "# Train set\n",
    "UNBALANCED_TRAIN_SET_METADATA_PATH = os.path.join(DATA_ROOT, \"unbalanced_train_set_metadata.csv\")\n",
    "POSTPROCESSED_TRAIN_FOLDER = os.path.join(DATA_ROOT, 'postprocessed_train')\n",
    "GROUPS_SESSIONS_DATA_TRAIN = os.path.join(DATA_ROOT, 'groups_sessions_data_train')\n",
    "GRF_F_AP_PRO_DATA_TRAIN = os.path.join(DATA_ROOT, 'GRF_F_AP_PRO_data_train')\n",
    "# Test set\n",
    "TEST_SET_METADATA_PATH = os.path.join(DATA_ROOT, \"test_set_metadata.csv\")\n",
    "TEST_FOLDER = os.path.join(DATA_ROOT, \"test_set\")\n",
    "GROUPS_SESSIONS_DATA_TEST = os.path.join(DATA_ROOT, 'groups_sessions_data_test')\n",
    "GRF_F_AP_PRO_DATA_TEST = os.path.join(DATA_ROOT, 'GRF_F_AP_PRO_data_test')"
   ]
  },
  {
   "cell_type": "markdown",
   "metadata": {},
   "source": [
    "## Separar las features del target"
   ]
  },
  {
   "cell_type": "markdown",
   "metadata": {},
   "source": [
    "- Separar las features (valores de la primera sesión) y el target (valores de la última sesión).\n",
    "- Los valores de la primera sesión corresponden a las filas impares y los valores de la última sesión corresponden a las filas pares. "
   ]
  },
  {
   "cell_type": "code",
   "execution_count": 4,
   "metadata": {},
   "outputs": [],
   "source": [
    "def split_df_train_test(df_train: pd.DataFrame, df_test: pd.DataFrame):\n",
    "    # Select only the columns of interest\n",
    "    columns_of_interest = df_train.columns[3:]  # Exclude SUBJECT_ID, SESSION_ID, TRIAL_ID\n",
    "    # Create X_train, y_train, X_test, y_test:\n",
    "        # Extract the odd rows into X\n",
    "        # Extract the even rows into y\n",
    "    X_train = df_train.iloc[::2][columns_of_interest].values\n",
    "    y_train = df_train.iloc[1::2][columns_of_interest].values\n",
    "    X_test = df_test.iloc[::2][columns_of_interest].values\n",
    "    y_test = df_test.iloc[1::2][columns_of_interest].values\n",
    "\n",
    "    return X_train, y_train, X_test, y_test"
   ]
  },
  {
   "cell_type": "markdown",
   "metadata": {},
   "source": [
    "## Load preprocessed data\n",
    "- ANKLE data - 2 sessions"
   ]
  },
  {
   "cell_type": "code",
   "execution_count": 5,
   "metadata": {},
   "outputs": [],
   "source": [
    "# train df\n",
    "combined_legs_2sessions_A_train = pd.read_csv(os.path.join(GRF_F_AP_PRO_DATA_TRAIN, \n",
    "                              'groups_2sessions_data_train/A_data/combined.csv'))\n",
    "# test df\n",
    "combined_legs_2sessions_A_test = pd.read_csv(os.path.join(GRF_F_AP_PRO_DATA_TEST, \n",
    "                              'groups_2sessions_data_test/A_data/combined.csv'))"
   ]
  },
  {
   "cell_type": "markdown",
   "metadata": {},
   "source": [
    "## Train - Test split"
   ]
  },
  {
   "cell_type": "code",
   "execution_count": 6,
   "metadata": {},
   "outputs": [],
   "source": [
    "# train - test split \n",
    "X_train_A2, y_train_A2, X_test_A2, y_test_A2 = split_df_train_test(\n",
    "                                                df_train = combined_legs_2sessions_A_train, \n",
    "                                                df_test = combined_legs_2sessions_A_test)"
   ]
  }
 ],
 "metadata": {
  "kernelspec": {
   "display_name": "Python 3",
   "language": "python",
   "name": "python3"
  },
  "language_info": {
   "codemirror_mode": {
    "name": "ipython",
    "version": 3
   },
   "file_extension": ".py",
   "mimetype": "text/x-python",
   "name": "python",
   "nbconvert_exporter": "python",
   "pygments_lexer": "ipython3",
   "version": "3.9.16"
  },
  "orig_nbformat": 4
 },
 "nbformat": 4,
 "nbformat_minor": 2
}
